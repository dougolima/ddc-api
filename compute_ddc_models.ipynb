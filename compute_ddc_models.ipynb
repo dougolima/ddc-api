{
 "cells": [
  {
   "cell_type": "code",
   "execution_count": 1,
   "metadata": {
    "collapsed": false,
    "deletable": true,
    "editable": true
   },
   "outputs": [
    {
     "name": "stdout",
     "output_type": "stream",
     "text": [
      "--2019-02-04 11:03:42--  https://github.com/nlp-pucrs/prescription-outliers/raw/master/data/prescriptions_sample.csv.gz\n",
      "Resolving github.com (github.com)... 192.30.253.113, 192.30.253.112\n",
      "Connecting to github.com (github.com)|192.30.253.113|:443... connected.\n",
      "HTTP request sent, awaiting response... 302 Found\n",
      "Location: https://raw.githubusercontent.com/nlp-pucrs/prescription-outliers/master/data/prescriptions_sample.csv.gz [following]\n",
      "--2019-02-04 11:03:43--  https://raw.githubusercontent.com/nlp-pucrs/prescription-outliers/master/data/prescriptions_sample.csv.gz\n",
      "Resolving raw.githubusercontent.com (raw.githubusercontent.com)... 151.101.252.133\n",
      "Connecting to raw.githubusercontent.com (raw.githubusercontent.com)|151.101.252.133|:443... connected.\n",
      "HTTP request sent, awaiting response... 200 OK\n",
      "Length: 95274 (93K) [application/octet-stream]\n",
      "Saving to: ‘data/prescriptions_sample.csv.gz’\n",
      "\n",
      "data/prescriptions_ 100%[===================>]  93,04K  --.-KB/s    in 0,04s   \n",
      "\n",
      "2019-02-04 11:03:43 (2,47 MB/s) - ‘data/prescriptions_sample.csv.gz’ saved [95274/95274]\n",
      "\n"
     ]
    },
    {
     "data": {
      "text/plain": [
       "((150113, 4),\n",
       " Index(['medication', 'frequency', 'dose', 'target'], dtype='object'))"
      ]
     },
     "execution_count": 1,
     "metadata": {},
     "output_type": "execute_result"
    }
   ],
   "source": [
    "import pandas as pd\n",
    "\n",
    "## example file\n",
    "!wget https://github.com/nlp-pucrs/prescription-outliers/raw/master/data/prescriptions_sample.csv.gz -O data/prescriptions_sample.csv.gz\n",
    "    \n",
    "prescription = pd.read_csv('data/prescriptions_sample.csv.gz')\n",
    "prescription.shape, prescription.columns"
   ]
  },
  {
   "cell_type": "code",
   "execution_count": 2,
   "metadata": {
    "collapsed": false,
    "deletable": true,
    "editable": true
   },
   "outputs": [
    {
     "name": "stdout",
     "output_type": "stream",
     "text": [
      "Threshold ENALAPRIL : 0.125\n",
      "Threshold PARACETAMOL : 0.022\n",
      "Threshold VARFARINA : 0.083\n"
     ]
    }
   ],
   "source": [
    "import outliers\n",
    "import warnings\n",
    "warnings.filterwarnings('ignore')\n",
    "\n",
    "columns = ['medication', 'frequency', 'dose', 'score']\n",
    "models = pd.DataFrame(columns=columns)\n",
    "selected_medications = ['ENALAPRIL','PARACETAMOL','VARFARINA']\n",
    "\n",
    "for m in selected_medications:\n",
    "    result = outliers.build_model(prescription, m)\n",
    "    agg = result[columns].groupby(columns).count().reset_index()\n",
    "    models = models.append(agg)"
   ]
  },
  {
   "cell_type": "code",
   "execution_count": 3,
   "metadata": {
    "collapsed": false,
    "deletable": true,
    "editable": true
   },
   "outputs": [
    {
     "data": {
      "text/html": [
       "<div>\n",
       "<table border=\"1\" class=\"dataframe\">\n",
       "  <thead>\n",
       "    <tr style=\"text-align: right;\">\n",
       "      <th></th>\n",
       "      <th>medication</th>\n",
       "      <th>frequency</th>\n",
       "      <th>dose</th>\n",
       "      <th>score</th>\n",
       "    </tr>\n",
       "  </thead>\n",
       "  <tbody>\n",
       "    <tr>\n",
       "      <th>16</th>\n",
       "      <td>PARACETAMOL</td>\n",
       "      <td>4.0</td>\n",
       "      <td>25.0</td>\n",
       "      <td>2.0</td>\n",
       "    </tr>\n",
       "    <tr>\n",
       "      <th>13</th>\n",
       "      <td>PARACETAMOL</td>\n",
       "      <td>3.0</td>\n",
       "      <td>70.0</td>\n",
       "      <td>3.0</td>\n",
       "    </tr>\n",
       "    <tr>\n",
       "      <th>42</th>\n",
       "      <td>PARACETAMOL</td>\n",
       "      <td>6.0</td>\n",
       "      <td>55.0</td>\n",
       "      <td>3.0</td>\n",
       "    </tr>\n",
       "    <tr>\n",
       "      <th>2</th>\n",
       "      <td>PARACETAMOL</td>\n",
       "      <td>1.0</td>\n",
       "      <td>45.0</td>\n",
       "      <td>3.0</td>\n",
       "    </tr>\n",
       "    <tr>\n",
       "      <th>40</th>\n",
       "      <td>PARACETAMOL</td>\n",
       "      <td>6.0</td>\n",
       "      <td>45.0</td>\n",
       "      <td>3.0</td>\n",
       "    </tr>\n",
       "    <tr>\n",
       "      <th>8</th>\n",
       "      <td>PARACETAMOL</td>\n",
       "      <td>3.0</td>\n",
       "      <td>40.0</td>\n",
       "      <td>3.0</td>\n",
       "    </tr>\n",
       "    <tr>\n",
       "      <th>1</th>\n",
       "      <td>ENALAPRIL</td>\n",
       "      <td>1.0</td>\n",
       "      <td>20.0</td>\n",
       "      <td>1.0</td>\n",
       "    </tr>\n",
       "    <tr>\n",
       "      <th>35</th>\n",
       "      <td>PARACETAMOL</td>\n",
       "      <td>6.0</td>\n",
       "      <td>35.0</td>\n",
       "      <td>3.0</td>\n",
       "    </tr>\n",
       "    <tr>\n",
       "      <th>17</th>\n",
       "      <td>PARACETAMOL</td>\n",
       "      <td>4.0</td>\n",
       "      <td>30.0</td>\n",
       "      <td>0.0</td>\n",
       "    </tr>\n",
       "    <tr>\n",
       "      <th>18</th>\n",
       "      <td>PARACETAMOL</td>\n",
       "      <td>4.0</td>\n",
       "      <td>35.0</td>\n",
       "      <td>1.0</td>\n",
       "    </tr>\n",
       "  </tbody>\n",
       "</table>\n",
       "</div>"
      ],
      "text/plain": [
       "     medication  frequency  dose  score\n",
       "16  PARACETAMOL        4.0  25.0    2.0\n",
       "13  PARACETAMOL        3.0  70.0    3.0\n",
       "42  PARACETAMOL        6.0  55.0    3.0\n",
       "2   PARACETAMOL        1.0  45.0    3.0\n",
       "40  PARACETAMOL        6.0  45.0    3.0\n",
       "8   PARACETAMOL        3.0  40.0    3.0\n",
       "1     ENALAPRIL        1.0  20.0    1.0\n",
       "35  PARACETAMOL        6.0  35.0    3.0\n",
       "17  PARACETAMOL        4.0  30.0    0.0\n",
       "18  PARACETAMOL        4.0  35.0    1.0"
      ]
     },
     "execution_count": 3,
     "metadata": {},
     "output_type": "execute_result"
    }
   ],
   "source": [
    "models.sample(10)"
   ]
  },
  {
   "cell_type": "code",
   "execution_count": 4,
   "metadata": {
    "collapsed": true,
    "deletable": true,
    "editable": true
   },
   "outputs": [],
   "source": [
    "models.to_csv('data/models.csv.gz', compression='gzip', index=None)"
   ]
  },
  {
   "cell_type": "code",
   "execution_count": null,
   "metadata": {
    "collapsed": true,
    "deletable": true,
    "editable": true
   },
   "outputs": [],
   "source": []
  }
 ],
 "metadata": {
  "kernelspec": {
   "display_name": "Python 3",
   "language": "python",
   "name": "python3"
  },
  "language_info": {
   "codemirror_mode": {
    "name": "ipython",
    "version": 3
   },
   "file_extension": ".py",
   "mimetype": "text/x-python",
   "name": "python",
   "nbconvert_exporter": "python",
   "pygments_lexer": "ipython3",
   "version": "3.5.2"
  }
 },
 "nbformat": 4,
 "nbformat_minor": 2
}
